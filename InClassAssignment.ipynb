{
  "nbformat": 4,
  "nbformat_minor": 0,
  "metadata": {
    "colab": {
      "provenance": [],
      "authorship_tag": "ABX9TyOZ6kMke80OKgXXcMsdkYcX",
      "include_colab_link": true
    },
    "kernelspec": {
      "name": "python3",
      "display_name": "Python 3"
    },
    "language_info": {
      "name": "python"
    }
  },
  "cells": [
    {
      "cell_type": "markdown",
      "metadata": {
        "id": "view-in-github",
        "colab_type": "text"
      },
      "source": [
        "<a href=\"https://colab.research.google.com/github/sofpiniella/In-Class-Assignment-Sofia/blob/main/InClassAssignment.ipynb\" target=\"_parent\"><img src=\"https://colab.research.google.com/assets/colab-badge.svg\" alt=\"Open In Colab\"/></a>"
      ]
    },
    {
      "cell_type": "markdown",
      "source": [
        "Cylinder area calculator"
      ],
      "metadata": {
        "id": "-QTGVYJL7Riy"
      }
    },
    {
      "cell_type": "code",
      "execution_count": null,
      "metadata": {
        "colab": {
          "base_uri": "https://localhost:8080/"
        },
        "id": "Ni5frOaPHjBF",
        "outputId": "d5c35ba6-b835-43fa-a40b-7bd71deeeee0"
      },
      "outputs": [
        {
          "output_type": "stream",
          "name": "stdout",
          "text": [
            "Enter the height of the cylinder: 3\n",
            "Enter the radius of the cylinder: 2\n",
            "The area of the cylinder is: 62.8 sq. ft\n"
          ]
        }
      ],
      "source": [
        "height = float(input(\"Enter the height of the cylinder: \"))\n",
        "radius = float(input(\"Enter the radius of the cylinder: \"))\n",
        "pi = 3.14\n",
        "area = (2 * pi * radius ** 2) + (2 * pi * radius * height)\n",
        "print(f\"The area of the cylinder is: {area} sq. ft\")"
      ]
    },
    {
      "cell_type": "markdown",
      "source": [
        "Numerical calculator"
      ],
      "metadata": {
        "id": "qHEvpVby7Wdy"
      }
    },
    {
      "cell_type": "code",
      "source": [
        "number_1 = float(input(\"Enter a number: \"))\n",
        "number_2 = float(input(\"Enter another number: \"))\n",
        "symbol = input(\"Enter a symbol: \")\n",
        "if symbol == \"+\":\n",
        "  print(f\"{number_1} {symbol} {number_2} = {number_1 + number_2}\")\n",
        "elif symbol == \"-\":\n",
        "  print(f\"{number_1} {symbol} {number_2} = {number_1 - number_2}\")\n",
        "elif symbol == \"*\":\n",
        "  print(f\"{number_1} {symbol} {number_2} = {number_1 * number_2}\")\n",
        "elif symbol == \"/\":\n",
        "  print(f\"{number_1} {symbol} {number_2} = {number_1 / number_2}\")\n",
        "elif symbol == \"%\":\n",
        "  print(f\"{number_1} {symbol} {number_2} = {number_1 % number_2}\")\n",
        "elif symbol == \"**\":\n",
        "  print(f\"{number_1} {symbol} {number_2} = {number_1 ** number_2}\")\n",
        "elif symbol == \"//\":\n",
        "  print(f\"{number_1} {symbol} {number_2} = {number_1 // number_2}\")\n",
        "else:\n",
        "  print(\"Invalid symbol\")\n",
        "\n"
      ],
      "metadata": {
        "colab": {
          "base_uri": "https://localhost:8080/"
        },
        "id": "Np8qiW50sUKk",
        "outputId": "4437e598-7db5-4132-fd62-4ae88f868b7e"
      },
      "execution_count": null,
      "outputs": [
        {
          "output_type": "stream",
          "name": "stdout",
          "text": [
            "Enter a number: 1\n",
            "Enter another number: 2\n",
            "Enter a symbol: +\n",
            "1.0 + 2.0 = 3.0\n"
          ]
        }
      ]
    },
    {
      "cell_type": "markdown",
      "source": [
        "Parking Garage"
      ],
      "metadata": {
        "id": "hgU9nACbJjiC"
      }
    },
    {
      "cell_type": "code",
      "source": [
        "baseRate = 5.0\n",
        "hourlyRate = 2.50\n",
        "minimum = 10.0\n",
        "maximum = 20.0\n",
        "\n",
        "for numberHours in range(1,9):\n",
        "  totalCost = baseRate + (hourlyRate * numberHours)\n",
        "  if totalCost < minimum:\n",
        "    print(numberHours, minimum)\n",
        "  elif totalCost > maximum:\n",
        "    print(numberHours, maximum)\n",
        "  else:\n",
        "    print(numberHours, totalCost)"
      ],
      "metadata": {
        "colab": {
          "base_uri": "https://localhost:8080/"
        },
        "id": "B4GY8eExJuo-",
        "outputId": "c6d281c7-ff05-4297-927e-c6cab9571714"
      },
      "execution_count": null,
      "outputs": [
        {
          "output_type": "stream",
          "name": "stdout",
          "text": [
            "1 10.0\n",
            "2 10.0\n",
            "3 12.5\n",
            "4 15.0\n",
            "5 17.5\n",
            "6 20.0\n",
            "7 20.0\n",
            "8 20.0\n"
          ]
        }
      ]
    },
    {
      "cell_type": "markdown",
      "source": [
        "Movie Theater"
      ],
      "metadata": {
        "id": "15y2S8TUN3_j"
      }
    },
    {
      "cell_type": "code",
      "source": [
        "import math\n",
        "\n",
        "ticket = 10.0\n",
        "attendees = 20.0\n",
        "fixedCosts = 200.0\n",
        "\n",
        "print(\"Ad$\\t\", \"Profit\")\n",
        "for advertisingDollars in range(0,201,25):\n",
        "  additionalAttendees = 2*round(math.sqrt(advertisingDollars))\n",
        "  profit = (ticket * (attendees + additionalAttendees)) - (advertisingDollars+fixedCosts)\n",
        "  print(advertisingDollars, '\\t', profit)"
      ],
      "metadata": {
        "colab": {
          "base_uri": "https://localhost:8080/"
        },
        "id": "RI0BpprpN5cO",
        "outputId": "31e2631f-7ab4-471c-859b-06870cc136a9"
      },
      "execution_count": null,
      "outputs": [
        {
          "output_type": "stream",
          "name": "stdout",
          "text": [
            "Ad$\t Profit\n",
            "0 \t 0.0\n",
            "25 \t 75.0\n",
            "50 \t 90.0\n",
            "75 \t 105.0\n",
            "100 \t 100.0\n",
            "125 \t 95.0\n",
            "150 \t 90.0\n",
            "175 \t 85.0\n",
            "200 \t 80.0\n"
          ]
        }
      ]
    },
    {
      "cell_type": "markdown",
      "source": [
        "Rock - Paper - Scissors"
      ],
      "metadata": {
        "id": "QXWfUEAa5P4H"
      }
    },
    {
      "cell_type": "code",
      "source": [
        "play = input(\"Do you want to play a game? (yes/no) \")\n",
        "\n",
        "while play == \"yes\":\n",
        "  player_1 = input(\"Player 1, please enter your name: \")\n",
        "  player_2 = input(\"Player 2, please enter your name: \")\n",
        "  p1 = input(player_1 + \", please enter rock, paper, or scissors: \")\n",
        "  p2 = input(player_2 + \", please enter rock, paper, or scissors: \")\n",
        "\n",
        "  if p1 == p2:\n",
        "    print(\"It's a tie!\")\n",
        "  elif ((p1 == \"rock\" and p2 == \"scissors\")\n",
        "  or (p1 == \"paper\" and p2 == \"rock\")\n",
        "  or (p1 == \"scissors\" and p2 == \"paper\")):\n",
        "    print(player_1, \"wins!\")\n",
        "  else:\n",
        "    print(player_2, \"wins!\")\n",
        "\n",
        "  play = input(\"Do you want to play again? (yes/no)\")\n",
        "\n",
        "print(\"Thanks for playing!\")"
      ],
      "metadata": {
        "colab": {
          "base_uri": "https://localhost:8080/"
        },
        "id": "Ub0RFoij9B5b",
        "outputId": "83bea523-2194-4924-aa2d-6dd598e012d5"
      },
      "execution_count": null,
      "outputs": [
        {
          "output_type": "stream",
          "name": "stdout",
          "text": [
            "Do you want to play a game? (yes/no) yes\n",
            "Player 1, please enter your name: s\n",
            "Player 2, please enter your name: v\n",
            "s, please enter rock, paper, or scissors: rock\n",
            "v, please enter rock, paper, or scissors: scissors\n",
            "s wins!\n",
            "Do you want to play again? (yes/no)no\n",
            "Thanks for playing!\n"
          ]
        }
      ]
    },
    {
      "cell_type": "markdown",
      "source": [
        "Rock - Paper - Scissors: Play against computer."
      ],
      "metadata": {
        "id": "tSnMhpALC1az"
      }
    },
    {
      "cell_type": "code",
      "source": [
        "import random\n",
        "play = input(\"Do you want to play a game? (yes/no) \")\n",
        "\n",
        "while play == \"yes\":\n",
        "\n",
        "  p1 = input(\"Please enter rock, paper, or scissors: \")\n",
        "  p2 = random.choice([\"rock\", \"paper\", \"scissors\"]).capitalize()\n",
        "\n",
        "  print(f'Player chose {p1}; The computer chose {p2}.')\n",
        "\n",
        "  if p1 == p2:\n",
        "    print(\"It's a tie!\")\n",
        "  elif ((p1 == \"rock\" and p2 == \"scissors\")\n",
        "  or (p1 == \"paper\" and p2 == \"rock\")\n",
        "  or (p1 == \"scissors\" and p2 == \"paper\")):\n",
        "    print(\"Player wins!\")\n",
        "  else:\n",
        "    print(\"Computer wins!\")\n",
        "\n",
        "  play = input(\"Do you want to play again? (yes/no) \")\n",
        "\n",
        "print(\"Thanks for playing!\")"
      ],
      "metadata": {
        "colab": {
          "base_uri": "https://localhost:8080/"
        },
        "id": "IupMiJ_9CDMg",
        "outputId": "8cb1e32f-b4ff-40c8-c80b-0d2e6fa85865"
      },
      "execution_count": null,
      "outputs": [
        {
          "output_type": "stream",
          "name": "stdout",
          "text": [
            "Do you want to play a game? (yes/no) yes\n",
            "Please enter rock, paper, or scissors: rock\n",
            "Player chose rock; The computer chose Paper\n",
            "Computer wins!\n",
            "Do you want to play again? (yes/no)no\n",
            "Thanks for playing!\n"
          ]
        }
      ]
    },
    {
      "cell_type": "markdown",
      "source": [
        "List"
      ],
      "metadata": {
        "id": "Yy1IzeyoBBIA"
      }
    },
    {
      "cell_type": "code",
      "source": [
        "list = []\n",
        "number = float(input(\"Please enter a number, to stop enter 0. \"))\n",
        "\n",
        "while number != 0.0:\n",
        "  list.append(number)\n",
        "  number = float(input(\"Please enter a number, to stop enter 0. \"))\n",
        "list.sort(reverse=True)\n",
        "print(list)"
      ],
      "metadata": {
        "colab": {
          "base_uri": "https://localhost:8080/"
        },
        "id": "TaRSJ_dfQBBP",
        "outputId": "fe6359ae-511a-412e-e948-53ba16be383b"
      },
      "execution_count": null,
      "outputs": [
        {
          "output_type": "stream",
          "name": "stdout",
          "text": [
            "Please enter a number, to stop enter 0. 1\n",
            "Please enter a number, to stop enter 0. 2\n",
            "Please enter a number, to stop enter 0. 3\n",
            "Please enter a number, to stop enter 0. 4\n",
            "Please enter a number, to stop enter 0. 0\n",
            "[4.0, 3.0, 2.0, 1.0]\n"
          ]
        }
      ]
    },
    {
      "cell_type": "markdown",
      "source": [
        "Dictionary List"
      ],
      "metadata": {
        "id": "mvbAvJNV3DFO"
      }
    },
    {
      "cell_type": "code",
      "source": [
        "months = {}\n",
        "\n",
        "names = [\"Jan\", \"Feb\", \"Mar\", \"Apr\", \"May\", \"Jun\", \"Jul\", \"Aug\", \"Sep\", \"Oct\", \"Nov\", \"Dec\"]\n",
        "numbers = [1,2,3,4,5,6,7,8,9,10,11,12]\n",
        "\n",
        "for idx in range(len(names)):\n",
        "  months[numbers[idx]] = names[idx]\n",
        "months\n"
      ],
      "metadata": {
        "colab": {
          "base_uri": "https://localhost:8080/"
        },
        "id": "9EPqF_Wgx95d",
        "outputId": "c9ce9182-d62b-4bf8-9042-e7366d59ee70"
      },
      "execution_count": null,
      "outputs": [
        {
          "output_type": "execute_result",
          "data": {
            "text/plain": [
              "{1: 'Jan',\n",
              " 2: 'Feb',\n",
              " 3: 'Mar',\n",
              " 4: 'Apr',\n",
              " 5: 'May',\n",
              " 6: 'Jun',\n",
              " 7: 'Jul',\n",
              " 8: 'Aug',\n",
              " 9: 'Sep',\n",
              " 10: 'Oct',\n",
              " 11: 'Nov',\n",
              " 12: 'Dec'}"
            ]
          },
          "metadata": {},
          "execution_count": 3
        }
      ]
    },
    {
      "cell_type": "code",
      "source": [
        "months = {}\n",
        "\n",
        "names = [\"Jan\", \"Feb\", \"Mar\", \"Apr\", \"May\", \"Jun\", \"Jul\", \"Aug\", \"Sep\", \"Oct\", \"Nov\", \"Dec\"]\n",
        "numbers = [1,2,3,4,5,6,7,8,9,10,11,12]\n",
        "\n",
        "for num in numbers:\n",
        "  months[num] = names[num - 1]\n",
        "months"
      ],
      "metadata": {
        "colab": {
          "base_uri": "https://localhost:8080/"
        },
        "id": "NVAu3BoyyAnq",
        "outputId": "d86c067e-e192-433c-cecb-1116c4c943bd"
      },
      "execution_count": null,
      "outputs": [
        {
          "output_type": "execute_result",
          "data": {
            "text/plain": [
              "{1: 'Jan',\n",
              " 2: 'Feb',\n",
              " 3: 'Mar',\n",
              " 4: 'Apr',\n",
              " 5: 'May',\n",
              " 6: 'Jun',\n",
              " 7: 'Jul',\n",
              " 8: 'Aug',\n",
              " 9: 'Sep',\n",
              " 10: 'Oct',\n",
              " 11: 'Nov',\n",
              " 12: 'Dec'}"
            ]
          },
          "metadata": {},
          "execution_count": 5
        }
      ]
    },
    {
      "cell_type": "code",
      "source": [
        "counts = {}\n",
        "\n",
        "while len(counts) < 5:\n",
        "\n",
        "  key = input(\"Enter a word: \")\n",
        "\n",
        "  if key not in counts:\n",
        "    counts[key] = 1\n",
        "  else:\n",
        "    counts[key] += 1\n",
        "\n",
        "counts"
      ],
      "metadata": {
        "colab": {
          "base_uri": "https://localhost:8080/"
        },
        "id": "B5mf2lfL4wbi",
        "outputId": "921babee-1938-4953-b6df-ebe2876bd376"
      },
      "execution_count": null,
      "outputs": [
        {
          "name": "stdout",
          "output_type": "stream",
          "text": [
            "Enter a word: a\n",
            "Enter a word: b\n",
            "Enter a word: c\n",
            "Enter a word: e\n",
            "Enter a word: a\n",
            "Enter a word: a\n",
            "Enter a word: a\n",
            "Enter a word: a\n",
            "Enter a word: d\n"
          ]
        },
        {
          "output_type": "execute_result",
          "data": {
            "text/plain": [
              "{'a': 5, 'b': 1, 'c': 1, 'e': 1, 'd': 1}"
            ]
          },
          "metadata": {},
          "execution_count": 11
        }
      ]
    },
    {
      "cell_type": "markdown",
      "source": [
        "Parking Garage"
      ],
      "metadata": {
        "id": "6YkM_gJUNt4Q"
      }
    },
    {
      "cell_type": "code",
      "source": [
        "def calcFee(hours):\n",
        "  print (f'Number of hours parked: {hours}')\n",
        "  for hours in range(1,9):\n",
        "    fee = 5 + (2.5 * hours)\n",
        "  if fee < 10:\n",
        "    fee = 10.0\n",
        "  elif fee >= 20:\n",
        "    fee = 20.0\n",
        "  print(f'Total fee: {fee}$')\n",
        "\n",
        "print('Program starts...')\n",
        "numHours = int(input('Enter number of hours parked: '))\n",
        "calcFee(numHours)\n"
      ],
      "metadata": {
        "colab": {
          "base_uri": "https://localhost:8080/"
        },
        "id": "EqKCT7CBNqqm",
        "outputId": "1c70463d-9b1d-41c0-ce9d-c7bbc8517266"
      },
      "execution_count": null,
      "outputs": [
        {
          "output_type": "stream",
          "name": "stdout",
          "text": [
            "Program starts...\n",
            "Enter number of hours parked: 4\n",
            "Number of hours parked: 4\n",
            "Total fee: 20.0$\n"
          ]
        }
      ]
    },
    {
      "cell_type": "code",
      "source": [
        "#f ('abc') -> cba\n",
        "def fibR (n):\n",
        "  if n > 1: #inductive case\n",
        "    return fibR(n-1) +fibR(n-2)\n",
        "  else:\n",
        "      return 1\n",
        "\n",
        "fibR(5)"
      ],
      "metadata": {
        "id": "fTEXNX9rNDJg",
        "outputId": "5263688a-f5f4-4f1d-b2c8-0db472bb1cee",
        "colab": {
          "base_uri": "https://localhost:8080/"
        }
      },
      "execution_count": null,
      "outputs": [
        {
          "output_type": "execute_result",
          "data": {
            "text/plain": [
              "8"
            ]
          },
          "metadata": {},
          "execution_count": 1
        }
      ]
    },
    {
      "cell_type": "code",
      "source": [
        "def reverse(s):\n",
        "  if len(s) ==1:\n",
        "    return s\n",
        "  else:\n",
        "    #return s[-1] + reverse (s[:-1])\n",
        "    #return s[-1] + reverse(s[1:-1]) + s[0]\n",
        "    return reverse(s[1:]) + s[0]\n",
        "reverse(\"Hello\")"
      ],
      "metadata": {
        "id": "7hOQdE9sNHLD",
        "outputId": "24497ec1-b8a4-43f2-f483-971823688256",
        "colab": {
          "base_uri": "https://localhost:8080/",
          "height": 35
        }
      },
      "execution_count": null,
      "outputs": [
        {
          "output_type": "execute_result",
          "data": {
            "text/plain": [
              "'olleH'"
            ],
            "application/vnd.google.colaboratory.intrinsic+json": {
              "type": "string"
            }
          },
          "metadata": {},
          "execution_count": 2
        }
      ]
    },
    {
      "cell_type": "code",
      "source": [
        "class Greeting:\n",
        " def __init__(self,first,last):\n",
        "  self.first = first\n",
        "  self.last = last\n",
        " def display(self):\n",
        "  print(f' Hi {self.first}')\n",
        "\n",
        "greeting = Greeting('Donald', 'Becker')\n",
        "greeting.display()\n",
        "\n"
      ],
      "metadata": {
        "colab": {
          "base_uri": "https://localhost:8080/"
        },
        "id": "6-UIj6UJYCWl",
        "outputId": "1a186bfe-7b22-4d94-ae76-5fc4342339fb"
      },
      "execution_count": 11,
      "outputs": [
        {
          "output_type": "stream",
          "name": "stdout",
          "text": [
            " Hi Donald\n"
          ]
        }
      ]
    },
    {
      "cell_type": "code",
      "source": [],
      "metadata": {
        "id": "wJFCK1HlYrRy"
      },
      "execution_count": null,
      "outputs": []
    }
  ]
}