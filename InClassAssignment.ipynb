{
  "nbformat": 4,
  "nbformat_minor": 0,
  "metadata": {
    "colab": {
      "provenance": [],
      "authorship_tag": "ABX9TyPMMnKSNr+Y7h+dqao1WjP4",
      "include_colab_link": true
    },
    "kernelspec": {
      "name": "python3",
      "display_name": "Python 3"
    },
    "language_info": {
      "name": "python"
    }
  },
  "cells": [
    {
      "cell_type": "markdown",
      "metadata": {
        "id": "view-in-github",
        "colab_type": "text"
      },
      "source": [
        "<a href=\"https://colab.research.google.com/github/sofpiniella/In-Class-Assignment-Sofia/blob/main/InClassAssignment.ipynb\" target=\"_parent\"><img src=\"https://colab.research.google.com/assets/colab-badge.svg\" alt=\"Open In Colab\"/></a>"
      ]
    },
    {
      "cell_type": "code",
      "execution_count": null,
      "metadata": {
        "colab": {
          "base_uri": "https://localhost:8080/"
        },
        "id": "Ni5frOaPHjBF",
        "outputId": "d5c35ba6-b835-43fa-a40b-7bd71deeeee0"
      },
      "outputs": [
        {
          "output_type": "stream",
          "name": "stdout",
          "text": [
            "Enter the height of the cylinder: 3\n",
            "Enter the radius of the cylinder: 2\n",
            "The area of the cylinder is: 62.8 sq. ft\n"
          ]
        }
      ],
      "source": [
        "height = float(input(\"Enter the height of the cylinder: \"))\n",
        "radius = float(input(\"Enter the radius of the cylinder: \"))\n",
        "pi = 3.14\n",
        "area = (2 * pi * radius ** 2) + (2 * pi * radius * height)\n",
        "print(f\"The area of the cylinder is: {area} sq. ft\")"
      ]
    },
    {
      "cell_type": "code",
      "source": [
        "number_1 = float(input(\"Enter a number: \"))\n",
        "number_2 = float(input(\"Enter another number: \"))\n",
        "symbol = input(\"Enter a symbol: \")\n",
        "if symbol == \"+\":\n",
        "  print(f\"{number_1} {symbol} {number_2} = {number_1 + number_2}\")\n",
        "elif symbol == \"-\":\n",
        "  print(f\"{number_1} {symbol} {number_2} = {number_1 - number_2}\")\n",
        "elif symbol == \"*\":\n",
        "  print(f\"{number_1} {symbol} {number_2} = {number_1 * number_2}\")\n",
        "elif symbol == \"/\":\n",
        "  print(f\"{number_1} {symbol} {number_2} = {number_1 / number_2}\")\n",
        "elif symbol == \"%\":\n",
        "  print(f\"{number_1} {symbol} {number_2} = {number_1 % number_2}\")\n",
        "elif symbol == \"**\":\n",
        "  print(f\"{number_1} {symbol} {number_2} = {number_1 ** number_2}\")\n",
        "elif symbol == \"//\":\n",
        "  print(f\"{number_1} {symbol} {number_2} = {number_1 // number_2}\")\n",
        "else:\n",
        "  print(\"Invalid symbol\")\n",
        "\n"
      ],
      "metadata": {
        "colab": {
          "base_uri": "https://localhost:8080/"
        },
        "id": "Np8qiW50sUKk",
        "outputId": "4437e598-7db5-4132-fd62-4ae88f868b7e"
      },
      "execution_count": null,
      "outputs": [
        {
          "output_type": "stream",
          "name": "stdout",
          "text": [
            "Enter a number: 1\n",
            "Enter another number: 2\n",
            "Enter a symbol: +\n",
            "1.0 + 2.0 = 3.0\n"
          ]
        }
      ]
    },
    {
      "cell_type": "markdown",
      "source": [
        "Parking Garage"
      ],
      "metadata": {
        "id": "hgU9nACbJjiC"
      }
    },
    {
      "cell_type": "code",
      "source": [
        "baseRate = 5.0\n",
        "hourlyRate = 2.50\n",
        "minimum = 10.0\n",
        "maximum = 20.0\n",
        "\n",
        "for numberHours in range(1,9):\n",
        "  totalCost = baseRate + (hourlyRate * numberHours)\n",
        "  if totalCost < minimum:\n",
        "    print(numberHours, minimum)\n",
        "  elif totalCost > maximum:\n",
        "    print(numberHours, maximum)\n",
        "  else:\n",
        "    print(numberHours, totalCost)"
      ],
      "metadata": {
        "colab": {
          "base_uri": "https://localhost:8080/"
        },
        "id": "B4GY8eExJuo-",
        "outputId": "c6d281c7-ff05-4297-927e-c6cab9571714"
      },
      "execution_count": 17,
      "outputs": [
        {
          "output_type": "stream",
          "name": "stdout",
          "text": [
            "1 10.0\n",
            "2 10.0\n",
            "3 12.5\n",
            "4 15.0\n",
            "5 17.5\n",
            "6 20.0\n",
            "7 20.0\n",
            "8 20.0\n"
          ]
        }
      ]
    },
    {
      "cell_type": "markdown",
      "source": [
        "Movie Theater"
      ],
      "metadata": {
        "id": "15y2S8TUN3_j"
      }
    },
    {
      "cell_type": "code",
      "source": [
        "import math\n",
        "\n",
        "ticket = 10.0\n",
        "attendees = 20.0\n",
        "fixedCosts = 200.0\n",
        "\n",
        "print(\"Ad$\\t\", \"Profit\")\n",
        "for advertisingDollars in range(0,201,25):\n",
        "  additionalAttendees = 2*round(math.sqrt(advertisingDollars))\n",
        "  profit = (ticket * (attendees + additionalAttendees)) - (advertisingDollars+fixedCosts)\n",
        "  print(advertisingDollars, '\\t', profit)"
      ],
      "metadata": {
        "colab": {
          "base_uri": "https://localhost:8080/"
        },
        "id": "RI0BpprpN5cO",
        "outputId": "31e2631f-7ab4-471c-859b-06870cc136a9"
      },
      "execution_count": 33,
      "outputs": [
        {
          "output_type": "stream",
          "name": "stdout",
          "text": [
            "Ad$\t Profit\n",
            "0 \t 0.0\n",
            "25 \t 75.0\n",
            "50 \t 90.0\n",
            "75 \t 105.0\n",
            "100 \t 100.0\n",
            "125 \t 95.0\n",
            "150 \t 90.0\n",
            "175 \t 85.0\n",
            "200 \t 80.0\n"
          ]
        }
      ]
    }
  ]
}