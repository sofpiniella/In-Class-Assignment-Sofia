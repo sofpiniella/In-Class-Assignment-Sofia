{
  "nbformat": 4,
  "nbformat_minor": 0,
  "metadata": {
    "colab": {
      "provenance": [],
      "authorship_tag": "ABX9TyMjD5ARf+DvzPOb2O6phIM3",
      "include_colab_link": true
    },
    "kernelspec": {
      "name": "python3",
      "display_name": "Python 3"
    },
    "language_info": {
      "name": "python"
    }
  },
  "cells": [
    {
      "cell_type": "markdown",
      "metadata": {
        "id": "view-in-github",
        "colab_type": "text"
      },
      "source": [
        "<a href=\"https://colab.research.google.com/github/sofpiniella/In-Class-Assignment-1-Sofia/blob/main/InClassAssignment.ipynb\" target=\"_parent\"><img src=\"https://colab.research.google.com/assets/colab-badge.svg\" alt=\"Open In Colab\"/></a>"
      ]
    },
    {
      "cell_type": "code",
      "execution_count": 3,
      "metadata": {
        "colab": {
          "base_uri": "https://localhost:8080/"
        },
        "id": "Ni5frOaPHjBF",
        "outputId": "d5c35ba6-b835-43fa-a40b-7bd71deeeee0"
      },
      "outputs": [
        {
          "output_type": "stream",
          "name": "stdout",
          "text": [
            "Enter the height of the cylinder: 3\n",
            "Enter the radius of the cylinder: 2\n",
            "The area of the cylinder is: 62.8 sq. ft\n"
          ]
        }
      ],
      "source": [
        "height = float(input(\"Enter the height of the cylinder: \"))\n",
        "radius = float(input(\"Enter the radius of the cylinder: \"))\n",
        "pi = 3.14\n",
        "area = (2 * pi * radius ** 2) + (2 * pi * radius * height)\n",
        "print(f\"The area of the cylinder is: {area} sq. ft\")"
      ]
    }
  ]
}