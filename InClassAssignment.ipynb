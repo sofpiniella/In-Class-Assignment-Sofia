{
  "nbformat": 4,
  "nbformat_minor": 0,
  "metadata": {
    "colab": {
      "provenance": [],
      "authorship_tag": "ABX9TyNbuU0KHoqGGPeSfTy2kvjp",
      "include_colab_link": true
    },
    "kernelspec": {
      "name": "python3",
      "display_name": "Python 3"
    },
    "language_info": {
      "name": "python"
    }
  },
  "cells": [
    {
      "cell_type": "markdown",
      "metadata": {
        "id": "view-in-github",
        "colab_type": "text"
      },
      "source": [
        "<a href=\"https://colab.research.google.com/github/sofpiniella/In-Class-Assignment-Sofia/blob/main/InClassAssignment.ipynb\" target=\"_parent\"><img src=\"https://colab.research.google.com/assets/colab-badge.svg\" alt=\"Open In Colab\"/></a>"
      ]
    },
    {
      "cell_type": "code",
      "execution_count": null,
      "metadata": {
        "colab": {
          "base_uri": "https://localhost:8080/"
        },
        "id": "Ni5frOaPHjBF",
        "outputId": "d5c35ba6-b835-43fa-a40b-7bd71deeeee0"
      },
      "outputs": [
        {
          "output_type": "stream",
          "name": "stdout",
          "text": [
            "Enter the height of the cylinder: 3\n",
            "Enter the radius of the cylinder: 2\n",
            "The area of the cylinder is: 62.8 sq. ft\n"
          ]
        }
      ],
      "source": [
        "height = float(input(\"Enter the height of the cylinder: \"))\n",
        "radius = float(input(\"Enter the radius of the cylinder: \"))\n",
        "pi = 3.14\n",
        "area = (2 * pi * radius ** 2) + (2 * pi * radius * height)\n",
        "print(f\"The area of the cylinder is: {area} sq. ft\")"
      ]
    },
    {
      "cell_type": "code",
      "source": [
        "number_1 = float(input(\"Enter a number: \"))\n",
        "number_2 = float(input(\"Enter another number: \"))\n",
        "symbol = input(\"Enter a symbol: \")\n",
        "if symbol == \"+\":\n",
        "  print(f\"{number_1} {symbol} {number_2} = {number_1 + number_2}\")\n",
        "elif symbol == \"-\":\n",
        "  print(f\"{number_1} {symbol} {number_2} = {number_1 - number_2}\")\n",
        "elif symbol == \"*\":\n",
        "  print(f\"{number_1} {symbol} {number_2} = {number_1 * number_2}\")\n",
        "elif symbol == \"/\":\n",
        "  print(f\"{number_1} {symbol} {number_2} = {number_1 / number_2}\")\n",
        "elif symbol == \"%\":\n",
        "  print(f\"{number_1} {symbol} {number_2} = {number_1 % number_2}\")\n",
        "elif symbol == \"**\":\n",
        "  print(f\"{number_1} {symbol} {number_2} = {number_1 ** number_2}\")\n",
        "elif symbol == \"//\":\n",
        "  print(f\"{number_1} {symbol} {number_2} = {number_1 // number_2}\")\n",
        "else:\n",
        "  print(\"Invalid symbol\")\n",
        "\n"
      ],
      "metadata": {
        "colab": {
          "base_uri": "https://localhost:8080/"
        },
        "id": "Np8qiW50sUKk",
        "outputId": "4437e598-7db5-4132-fd62-4ae88f868b7e"
      },
      "execution_count": 6,
      "outputs": [
        {
          "output_type": "stream",
          "name": "stdout",
          "text": [
            "Enter a number: 1\n",
            "Enter another number: 2\n",
            "Enter a symbol: +\n",
            "1.0 + 2.0 = 3.0\n"
          ]
        }
      ]
    }
  ]
}